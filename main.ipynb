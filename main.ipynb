{
 "cells": [
  {
   "cell_type": "code",
   "execution_count": 14,
   "metadata": {},
   "outputs": [],
   "source": [
    "import pandas as pd\n",
    "import numpy as np\n",
    "import seaborn as sns\n",
    "import matplotlib.pyplot as plt"
   ]
  },
  {
   "cell_type": "code",
   "execution_count": 15,
   "metadata": {},
   "outputs": [
    {
     "data": {
      "text/html": [
       "<div>\n",
       "<style scoped>\n",
       "    .dataframe tbody tr th:only-of-type {\n",
       "        vertical-align: middle;\n",
       "    }\n",
       "\n",
       "    .dataframe tbody tr th {\n",
       "        vertical-align: top;\n",
       "    }\n",
       "\n",
       "    .dataframe thead th {\n",
       "        text-align: right;\n",
       "    }\n",
       "</style>\n",
       "<table border=\"1\" class=\"dataframe\">\n",
       "  <thead>\n",
       "    <tr style=\"text-align: right;\">\n",
       "      <th></th>\n",
       "      <th>fixed acidity</th>\n",
       "      <th>volatile acidity</th>\n",
       "      <th>citric acid</th>\n",
       "      <th>residual sugar</th>\n",
       "      <th>chlorides</th>\n",
       "      <th>free sulfur dioxide</th>\n",
       "      <th>total sulfur dioxide</th>\n",
       "      <th>density</th>\n",
       "      <th>pH</th>\n",
       "      <th>sulphates</th>\n",
       "      <th>alcohol</th>\n",
       "      <th>quality</th>\n",
       "    </tr>\n",
       "  </thead>\n",
       "  <tbody>\n",
       "    <tr>\n",
       "      <th>0</th>\n",
       "      <td>7.0</td>\n",
       "      <td>0.27</td>\n",
       "      <td>0.36</td>\n",
       "      <td>20.7</td>\n",
       "      <td>0.045</td>\n",
       "      <td>45.0</td>\n",
       "      <td>170.0</td>\n",
       "      <td>1.0010</td>\n",
       "      <td>3.00</td>\n",
       "      <td>0.45</td>\n",
       "      <td>8.8</td>\n",
       "      <td>6</td>\n",
       "    </tr>\n",
       "    <tr>\n",
       "      <th>1</th>\n",
       "      <td>6.3</td>\n",
       "      <td>0.30</td>\n",
       "      <td>0.34</td>\n",
       "      <td>1.6</td>\n",
       "      <td>0.049</td>\n",
       "      <td>14.0</td>\n",
       "      <td>132.0</td>\n",
       "      <td>0.9940</td>\n",
       "      <td>3.30</td>\n",
       "      <td>0.49</td>\n",
       "      <td>9.5</td>\n",
       "      <td>6</td>\n",
       "    </tr>\n",
       "    <tr>\n",
       "      <th>2</th>\n",
       "      <td>8.1</td>\n",
       "      <td>0.28</td>\n",
       "      <td>0.40</td>\n",
       "      <td>6.9</td>\n",
       "      <td>0.050</td>\n",
       "      <td>30.0</td>\n",
       "      <td>97.0</td>\n",
       "      <td>0.9951</td>\n",
       "      <td>3.26</td>\n",
       "      <td>0.44</td>\n",
       "      <td>10.1</td>\n",
       "      <td>6</td>\n",
       "    </tr>\n",
       "    <tr>\n",
       "      <th>3</th>\n",
       "      <td>7.2</td>\n",
       "      <td>0.23</td>\n",
       "      <td>0.32</td>\n",
       "      <td>8.5</td>\n",
       "      <td>0.058</td>\n",
       "      <td>47.0</td>\n",
       "      <td>186.0</td>\n",
       "      <td>0.9956</td>\n",
       "      <td>3.19</td>\n",
       "      <td>0.40</td>\n",
       "      <td>9.9</td>\n",
       "      <td>6</td>\n",
       "    </tr>\n",
       "    <tr>\n",
       "      <th>4</th>\n",
       "      <td>7.2</td>\n",
       "      <td>0.23</td>\n",
       "      <td>0.32</td>\n",
       "      <td>8.5</td>\n",
       "      <td>0.058</td>\n",
       "      <td>47.0</td>\n",
       "      <td>186.0</td>\n",
       "      <td>0.9956</td>\n",
       "      <td>3.19</td>\n",
       "      <td>0.40</td>\n",
       "      <td>9.9</td>\n",
       "      <td>6</td>\n",
       "    </tr>\n",
       "  </tbody>\n",
       "</table>\n",
       "</div>"
      ],
      "text/plain": [
       "   fixed acidity  volatile acidity  citric acid  residual sugar  chlorides  \\\n",
       "0            7.0              0.27         0.36            20.7      0.045   \n",
       "1            6.3              0.30         0.34             1.6      0.049   \n",
       "2            8.1              0.28         0.40             6.9      0.050   \n",
       "3            7.2              0.23         0.32             8.5      0.058   \n",
       "4            7.2              0.23         0.32             8.5      0.058   \n",
       "\n",
       "   free sulfur dioxide  total sulfur dioxide  density    pH  sulphates  \\\n",
       "0                 45.0                 170.0   1.0010  3.00       0.45   \n",
       "1                 14.0                 132.0   0.9940  3.30       0.49   \n",
       "2                 30.0                  97.0   0.9951  3.26       0.44   \n",
       "3                 47.0                 186.0   0.9956  3.19       0.40   \n",
       "4                 47.0                 186.0   0.9956  3.19       0.40   \n",
       "\n",
       "   alcohol  quality  \n",
       "0      8.8        6  \n",
       "1      9.5        6  \n",
       "2     10.1        6  \n",
       "3      9.9        6  \n",
       "4      9.9        6  "
      ]
     },
     "execution_count": 15,
     "metadata": {},
     "output_type": "execute_result"
    }
   ],
   "source": [
    "dataset = pd.read_csv(\"dataset/wine-quality.csv\")\n",
    "dataset.head()"
   ]
  },
  {
   "cell_type": "code",
   "execution_count": 16,
   "metadata": {},
   "outputs": [
    {
     "data": {
      "text/plain": [
       "fixed acidity           0\n",
       "volatile acidity        0\n",
       "citric acid             0\n",
       "residual sugar          0\n",
       "chlorides               0\n",
       "free sulfur dioxide     0\n",
       "total sulfur dioxide    0\n",
       "density                 0\n",
       "pH                      0\n",
       "sulphates               0\n",
       "alcohol                 0\n",
       "quality                 0\n",
       "dtype: int64"
      ]
     },
     "execution_count": 16,
     "metadata": {},
     "output_type": "execute_result"
    }
   ],
   "source": [
    "# check if any null value is present\n",
    "\n",
    "dataset.isnull().sum()"
   ]
  },
  {
   "cell_type": "code",
   "execution_count": 17,
   "metadata": {},
   "outputs": [
    {
     "data": {
      "text/plain": [
       "fixed acidity           0\n",
       "volatile acidity        0\n",
       "citric acid             0\n",
       "residual sugar          0\n",
       "chlorides               0\n",
       "free sulfur dioxide     0\n",
       "total sulfur dioxide    0\n",
       "density                 0\n",
       "pH                      0\n",
       "sulphates               0\n",
       "alcohol                 0\n",
       "quality                 0\n",
       "dtype: int64"
      ]
     },
     "execution_count": 17,
     "metadata": {},
     "output_type": "execute_result"
    }
   ],
   "source": [
    "# check if any NaN values is present\n",
    "dataset.isna().sum()"
   ]
  },
  {
   "cell_type": "markdown",
   "metadata": {},
   "source": [
    "##### Seperate the predictors and target value"
   ]
  },
  {
   "cell_type": "code",
   "execution_count": 18,
   "metadata": {},
   "outputs": [],
   "source": [
    "X = dataset.drop('quality', axis=1)\n",
    "y = dataset['quality']"
   ]
  },
  {
   "cell_type": "markdown",
   "metadata": {},
   "source": [
    "#### Split the dataset"
   ]
  },
  {
   "cell_type": "code",
   "execution_count": 19,
   "metadata": {},
   "outputs": [],
   "source": [
    "from sklearn.model_selection import train_test_split\n",
    "\n",
    "X_train, X_test, y_train, y_test = train_test_split(X, y, test_size=0.2, random_state=42)"
   ]
  },
  {
   "cell_type": "code",
   "execution_count": 20,
   "metadata": {},
   "outputs": [],
   "source": [
    "from sklearn.tree import DecisionTreeClassifier\n",
    "\n",
    "\n",
    "clf = DecisionTreeClassifier()\n",
    "clf = clf.fit(X_train, y_train)"
   ]
  },
  {
   "cell_type": "code",
   "execution_count": 21,
   "metadata": {},
   "outputs": [
    {
     "data": {
      "text/plain": [
       "{'ccp_alpha': 0.0,\n",
       " 'class_weight': None,\n",
       " 'criterion': 'gini',\n",
       " 'max_depth': None,\n",
       " 'max_features': None,\n",
       " 'max_leaf_nodes': None,\n",
       " 'min_impurity_decrease': 0.0,\n",
       " 'min_samples_leaf': 1,\n",
       " 'min_samples_split': 2,\n",
       " 'min_weight_fraction_leaf': 0.0,\n",
       " 'monotonic_cst': None,\n",
       " 'random_state': None,\n",
       " 'splitter': 'best'}"
      ]
     },
     "execution_count": 21,
     "metadata": {},
     "output_type": "execute_result"
    }
   ],
   "source": [
    "clf.get_params()"
   ]
  },
  {
   "cell_type": "code",
   "execution_count": 22,
   "metadata": {},
   "outputs": [
    {
     "data": {
      "text/html": [
       "<div>\n",
       "<style scoped>\n",
       "    .dataframe tbody tr th:only-of-type {\n",
       "        vertical-align: middle;\n",
       "    }\n",
       "\n",
       "    .dataframe tbody tr th {\n",
       "        vertical-align: top;\n",
       "    }\n",
       "\n",
       "    .dataframe thead th {\n",
       "        text-align: right;\n",
       "    }\n",
       "</style>\n",
       "<table border=\"1\" class=\"dataframe\">\n",
       "  <thead>\n",
       "    <tr style=\"text-align: right;\">\n",
       "      <th></th>\n",
       "      <th>fixed acidity</th>\n",
       "      <th>volatile acidity</th>\n",
       "      <th>citric acid</th>\n",
       "      <th>residual sugar</th>\n",
       "      <th>chlorides</th>\n",
       "      <th>free sulfur dioxide</th>\n",
       "      <th>total sulfur dioxide</th>\n",
       "      <th>density</th>\n",
       "      <th>pH</th>\n",
       "      <th>sulphates</th>\n",
       "      <th>alcohol</th>\n",
       "    </tr>\n",
       "  </thead>\n",
       "  <tbody>\n",
       "    <tr>\n",
       "      <th>4656</th>\n",
       "      <td>6.0</td>\n",
       "      <td>0.29</td>\n",
       "      <td>0.41</td>\n",
       "      <td>10.8</td>\n",
       "      <td>0.048</td>\n",
       "      <td>55.0</td>\n",
       "      <td>149.0</td>\n",
       "      <td>0.99370</td>\n",
       "      <td>3.09</td>\n",
       "      <td>0.59</td>\n",
       "      <td>10.966667</td>\n",
       "    </tr>\n",
       "    <tr>\n",
       "      <th>3659</th>\n",
       "      <td>5.4</td>\n",
       "      <td>0.53</td>\n",
       "      <td>0.16</td>\n",
       "      <td>2.7</td>\n",
       "      <td>0.036</td>\n",
       "      <td>34.0</td>\n",
       "      <td>128.0</td>\n",
       "      <td>0.98856</td>\n",
       "      <td>3.20</td>\n",
       "      <td>0.53</td>\n",
       "      <td>13.200000</td>\n",
       "    </tr>\n",
       "    <tr>\n",
       "      <th>907</th>\n",
       "      <td>7.1</td>\n",
       "      <td>0.25</td>\n",
       "      <td>0.39</td>\n",
       "      <td>2.1</td>\n",
       "      <td>0.036</td>\n",
       "      <td>30.0</td>\n",
       "      <td>124.0</td>\n",
       "      <td>0.99080</td>\n",
       "      <td>3.28</td>\n",
       "      <td>0.43</td>\n",
       "      <td>12.200000</td>\n",
       "    </tr>\n",
       "    <tr>\n",
       "      <th>4352</th>\n",
       "      <td>7.3</td>\n",
       "      <td>0.28</td>\n",
       "      <td>0.35</td>\n",
       "      <td>1.6</td>\n",
       "      <td>0.054</td>\n",
       "      <td>31.0</td>\n",
       "      <td>148.0</td>\n",
       "      <td>0.99178</td>\n",
       "      <td>3.18</td>\n",
       "      <td>0.47</td>\n",
       "      <td>10.700000</td>\n",
       "    </tr>\n",
       "    <tr>\n",
       "      <th>3271</th>\n",
       "      <td>6.5</td>\n",
       "      <td>0.32</td>\n",
       "      <td>0.34</td>\n",
       "      <td>5.7</td>\n",
       "      <td>0.044</td>\n",
       "      <td>27.0</td>\n",
       "      <td>91.0</td>\n",
       "      <td>0.99184</td>\n",
       "      <td>3.28</td>\n",
       "      <td>0.60</td>\n",
       "      <td>12.000000</td>\n",
       "    </tr>\n",
       "  </tbody>\n",
       "</table>\n",
       "</div>"
      ],
      "text/plain": [
       "      fixed acidity  volatile acidity  citric acid  residual sugar  chlorides  \\\n",
       "4656            6.0              0.29         0.41            10.8      0.048   \n",
       "3659            5.4              0.53         0.16             2.7      0.036   \n",
       "907             7.1              0.25         0.39             2.1      0.036   \n",
       "4352            7.3              0.28         0.35             1.6      0.054   \n",
       "3271            6.5              0.32         0.34             5.7      0.044   \n",
       "\n",
       "      free sulfur dioxide  total sulfur dioxide  density    pH  sulphates  \\\n",
       "4656                 55.0                 149.0  0.99370  3.09       0.59   \n",
       "3659                 34.0                 128.0  0.98856  3.20       0.53   \n",
       "907                  30.0                 124.0  0.99080  3.28       0.43   \n",
       "4352                 31.0                 148.0  0.99178  3.18       0.47   \n",
       "3271                 27.0                  91.0  0.99184  3.28       0.60   \n",
       "\n",
       "        alcohol  \n",
       "4656  10.966667  \n",
       "3659  13.200000  \n",
       "907   12.200000  \n",
       "4352  10.700000  \n",
       "3271  12.000000  "
      ]
     },
     "execution_count": 22,
     "metadata": {},
     "output_type": "execute_result"
    }
   ],
   "source": [
    "X_test.head()"
   ]
  },
  {
   "cell_type": "code",
   "execution_count": 23,
   "metadata": {},
   "outputs": [
    {
     "data": {
      "text/plain": [
       "array([7, 8, 6, 5, 6, 6, 5, 6, 6, 5, 7, 5, 7, 5, 6, 5, 6, 6, 7, 6, 5, 6,\n",
       "       5, 5, 6, 5, 5, 6, 7, 5, 5, 5, 6, 6, 6, 7, 6, 6, 5, 6, 6, 6, 6, 4,\n",
       "       6, 6, 5, 5, 5, 5, 4, 6, 5, 6, 6, 6, 6, 5, 6, 7, 7, 7, 6, 7, 5, 7,\n",
       "       6, 5, 6, 6, 5, 6, 6, 5, 6, 6, 6, 7, 8, 7, 6, 5, 6, 6, 6, 6, 5, 7,\n",
       "       5, 6, 7, 5, 5, 6, 6, 8, 6, 5, 6, 6, 6, 6, 7, 5, 6, 5, 7, 7, 6, 6,\n",
       "       6, 7, 6, 5, 6, 7, 6, 6, 5, 8, 6, 7, 7, 6, 7, 4, 7, 6, 6, 5, 6, 7,\n",
       "       6, 8, 5, 6, 6, 6, 6, 5, 6, 6, 6, 6, 5, 5, 5, 6, 6, 5, 7, 6, 6, 6,\n",
       "       7, 5, 6, 6, 7, 5, 5, 5, 7, 5, 7, 6, 5, 6, 5, 6, 6, 6, 6, 5, 8, 7,\n",
       "       6, 6, 7, 6, 6, 6, 7, 6, 5, 6, 8, 6, 6, 6, 6, 5, 7, 6, 5, 5, 8, 6,\n",
       "       5, 5, 7, 5, 6, 7, 5, 6, 7, 7, 6, 7, 6, 6, 5, 7, 6, 6, 6, 5, 7, 6,\n",
       "       5, 6, 6, 6, 6, 6, 6, 8, 7, 5, 7, 5, 7, 5, 6, 7, 6, 6, 6, 7, 7, 6,\n",
       "       6, 5, 7, 5, 4, 5, 4, 6, 6, 4, 5, 5, 7, 6, 7, 5, 6, 5, 6, 5, 5, 5,\n",
       "       5, 6, 6, 6, 7, 4, 5, 5, 6, 7, 6, 5, 5, 5, 7, 7, 6, 6, 6, 5, 6, 7,\n",
       "       6, 6, 5, 5, 6, 6, 6, 5, 8, 5, 7, 5, 5, 5, 4, 5, 6, 6, 6, 5, 5, 6,\n",
       "       7, 7, 6, 5, 6, 6, 7, 7, 6, 6, 5, 6, 7, 7, 6, 6, 6, 4, 6, 6, 9, 5,\n",
       "       6, 5, 4, 6, 5, 5, 7, 6, 8, 5, 5, 5, 5, 6, 6, 5, 6, 4, 7, 6, 7, 7,\n",
       "       6, 6, 6, 5, 5, 7, 7, 5, 5, 5, 6, 5, 5, 5, 5, 5, 4, 6, 6, 6, 7, 6,\n",
       "       6, 6, 6, 5, 7, 5, 6, 6, 5, 7, 5, 7, 7, 7, 5, 5, 5, 7, 6, 6, 4, 5,\n",
       "       5, 6, 6, 5, 8, 7, 6, 6, 5, 8, 7, 5, 7, 7, 5, 6, 8, 6, 6, 6, 4, 6,\n",
       "       5, 6, 6, 6, 7, 7, 7, 4, 6, 6, 5, 6, 7, 7, 7, 8, 6, 5, 8, 6, 5, 7,\n",
       "       6, 7, 6, 5, 5, 6, 7, 6, 5, 6, 4, 5, 7, 6, 7, 6, 5, 7, 5, 4, 6, 8,\n",
       "       6, 5, 6, 7, 6, 6, 7, 5, 5, 6, 6, 5, 4, 6, 5, 4, 6, 6, 7, 4, 6, 6,\n",
       "       5, 7, 6, 7, 5, 4, 6, 5, 6, 5, 5, 7, 6, 6, 6, 4, 7, 6, 5, 6, 6, 6,\n",
       "       6, 6, 6, 6, 7, 5, 5, 6, 7, 6, 6, 5, 6, 6, 6, 5, 6, 6, 6, 5, 7, 6,\n",
       "       5, 6, 8, 6, 5, 6, 6, 6, 7, 8, 8, 8, 6, 6, 6, 4, 6, 6, 8, 6, 6, 7,\n",
       "       6, 8, 7, 6, 8, 7, 8, 7, 5, 6, 7, 6, 6, 5, 6, 7, 5, 6, 7, 6, 5, 6,\n",
       "       7, 6, 6, 7, 6, 6, 6, 6, 5, 5, 5, 5, 6, 5, 5, 6, 5, 8, 7, 7, 5, 7,\n",
       "       6, 7, 8, 7, 5, 5, 5, 6, 5, 5, 5, 8, 5, 5, 6, 8, 5, 8, 6, 6, 4, 6,\n",
       "       5, 7, 6, 5, 7, 6, 5, 6, 6, 5, 7, 5, 5, 7, 5, 6, 6, 6, 6, 6, 6, 5,\n",
       "       6, 7, 6, 6, 7, 4, 5, 5, 6, 6, 7, 5, 7, 7, 7, 6, 7, 7, 6, 5, 6, 5,\n",
       "       8, 3, 8, 5, 7, 6, 5, 5, 6, 7, 6, 6, 5, 6, 6, 6, 6, 7, 5, 6, 6, 5,\n",
       "       6, 6, 6, 6, 6, 4, 5, 8, 6, 5, 5, 6, 7, 8, 6, 6, 7, 5, 5, 5, 5, 6,\n",
       "       6, 6, 7, 8, 6, 6, 5, 6, 7, 6, 6, 4, 6, 6, 5, 7, 5, 5, 5, 7, 6, 6,\n",
       "       6, 6, 6, 5, 5, 6, 7, 6, 5, 5, 6, 6, 5, 8, 7, 5, 7, 7, 6, 5, 8, 6,\n",
       "       7, 7, 6, 5, 7, 8, 5, 5, 6, 6, 4, 6, 5, 7, 7, 7, 6, 7, 6, 6, 6, 6,\n",
       "       5, 6, 6, 6, 5, 7, 6, 5, 7, 5, 6, 7, 6, 6, 7, 7, 7, 5, 5, 6, 5, 6,\n",
       "       5, 6, 5, 5, 5, 6, 5, 5, 6, 7, 6, 5, 8, 7, 5, 5, 7, 5, 6, 6, 6, 6,\n",
       "       5, 5, 6, 6, 5, 6, 6, 5, 7, 7, 5, 6, 6, 5, 6, 4, 5, 6, 7, 7, 6, 6,\n",
       "       6, 5, 5, 6, 6, 6, 5, 5, 6, 7, 7, 6, 6, 7, 5, 5, 6, 4, 7, 5, 6, 5,\n",
       "       5, 7, 6, 6, 6, 6, 6, 8, 5, 6, 6, 5, 6, 7, 8, 5, 5, 4, 7, 7, 5, 8,\n",
       "       6, 7, 6, 7, 6, 6, 5, 5, 5, 6, 5, 6, 6, 5, 6, 6, 5, 6, 5, 6, 5, 5,\n",
       "       6, 5, 5, 5, 6, 7, 6, 6, 5, 6, 5, 6, 7, 7, 7, 6, 5, 5, 6, 5, 8, 6,\n",
       "       5, 6, 7, 5, 5, 5, 7, 5, 7, 5, 5, 7, 7, 5, 6, 6, 4, 7, 8, 6, 5, 5,\n",
       "       5, 7, 6, 5, 5, 5, 6, 6, 7, 6, 7, 6, 5, 7, 8, 5, 8, 5, 5, 5, 6, 5,\n",
       "       6, 3, 6, 5, 5, 6, 4, 5, 6, 5, 5, 4])"
      ]
     },
     "execution_count": 23,
     "metadata": {},
     "output_type": "execute_result"
    }
   ],
   "source": [
    "predictions = clf.predict(X_test)\n",
    "predictions"
   ]
  },
  {
   "cell_type": "code",
   "execution_count": 24,
   "metadata": {},
   "outputs": [
    {
     "data": {
      "text/plain": [
       "array([[0., 0., 0., ..., 1., 0., 0.],\n",
       "       [0., 0., 0., ..., 0., 1., 0.],\n",
       "       [0., 0., 0., ..., 0., 0., 0.],\n",
       "       ...,\n",
       "       [0., 0., 1., ..., 0., 0., 0.],\n",
       "       [0., 0., 1., ..., 0., 0., 0.],\n",
       "       [0., 1., 0., ..., 0., 0., 0.]])"
      ]
     },
     "execution_count": 24,
     "metadata": {},
     "output_type": "execute_result"
    }
   ],
   "source": [
    "clf.predict_proba(X_test)"
   ]
  },
  {
   "cell_type": "code",
   "execution_count": 25,
   "metadata": {},
   "outputs": [
    {
     "data": {
      "text/plain": [
       "0.6030612244897959"
      ]
     },
     "execution_count": 25,
     "metadata": {},
     "output_type": "execute_result"
    }
   ],
   "source": [
    "from sklearn.metrics import accuracy_score\n",
    "accuracy_score(y_test, predictions)"
   ]
  },
  {
   "cell_type": "code",
   "execution_count": 26,
   "metadata": {},
   "outputs": [
    {
     "name": "stdout",
     "output_type": "stream",
     "text": [
      "Cross-Validation Accuracy: 0.5770795866239216\n"
     ]
    }
   ],
   "source": [
    "from sklearn.model_selection import cross_val_score\n",
    "\n",
    "scores = cross_val_score(clf, X_train, y_train, cv=5)\n",
    "print(f\"Cross-Validation Accuracy: {scores.mean()}\")\n"
   ]
  },
  {
   "cell_type": "code",
   "execution_count": null,
   "metadata": {},
   "outputs": [],
   "source": []
  }
 ],
 "metadata": {
  "kernelspec": {
   "display_name": "Python 3",
   "language": "python",
   "name": "python3"
  },
  "language_info": {
   "codemirror_mode": {
    "name": "ipython",
    "version": 3
   },
   "file_extension": ".py",
   "mimetype": "text/x-python",
   "name": "python",
   "nbconvert_exporter": "python",
   "pygments_lexer": "ipython3",
   "version": "3.11.9"
  }
 },
 "nbformat": 4,
 "nbformat_minor": 2
}
